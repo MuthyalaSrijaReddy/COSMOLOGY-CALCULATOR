{
 "cells": [
  {
   "cell_type": "code",
   "execution_count": 30,
   "metadata": {},
   "outputs": [
    {
     "name": "stdout",
     "output_type": "stream",
     "text": [
      "\n",
      "Enter the value of Ho (in Km/s/Mpc ):69.6\n",
      "Enter the value of Ω_Μ,0 :0.286\n",
      "Enter the value of Ω_Λ,0 :0.714\n",
      "Enter the value of Ω_Κ,0 :0\n",
      "Enter the value of Ω_γ,0 :0\n",
      "Enter the value of Redshift parameter Z :1\n",
      "\n",
      "\n",
      " RESULTS:\n",
      "1.Present age of universe (in Gyears): 13.75245465796437\n",
      "2.Age of the universe for user input redshift (in Gyears): 5.919474781227065\n",
      "3.Look back time for user input redshift (in Gyears): 7.832979876737304\n",
      "4.Comoving radial distance to user input redshift (in MPC) 3359.732111104997\n",
      "5.Angular diameter distance to user input redshift (in MPC) 1679.8660555524984\n",
      "6.Angular scale at user input redshift (kpc/arcsec) 8.14421281144401e-06\n",
      "7.Luminosity distance to user input redshift (in MPC) 6719.464222209994\n",
      "8.Temperature of CMB at user input redshift(K): 5.4\n"
     ]
    }
   ],
   "source": [
    "#HI SAI!\n",
    "# THIS IS TRAIL PROGRAM!\n",
    "\n",
    "#COSMOLOGY ASSIGNMENT 6: COSMOLOGY CALCULATOR.\n",
    "\n",
    "#importing necessary libraries:\n",
    "import numpy as np\n",
    "from scipy import integrate\n",
    "\n",
    "#input of various parameters:\n",
    "print(\"\")\n",
    "Ho = float(input('Enter the value of Ho (in Km/s/Mpc ):' ))\n",
    "Wm = float(input('Enter the value of \\u03A9_\\u039C,0 :' ))\n",
    "Wl = float(input('Enter the value of \\u03A9_\\u039B,0 :' ))\n",
    "Wk = float(input('Enter the value of \\u03A9_\\u039A,0 :' ))\n",
    "Wr = float(input('Enter the value of \\u03A9_\\u03B3,0 :' ))\n",
    "Z  = float(input('Enter the value of Redshift parameter Z :' ))\n",
    "c  = 3* 10**(8)       # in m sec^ -1\n",
    "\n",
    "#defining functions:\n",
    "print(\"\\n\\n RESULTS:\")\n",
    "#1.Present age of universe (in Gyears)\n",
    "#2.Age of the universe for user input redshift (in Gyears)\n",
    "#3.Look back time for user input redshift (in Gyears)\n",
    "\n",
    "def TIME(Z):\n",
    "    return ( 1/( (1+Z)*(((Wm*((1+Z)**3)) + (Wr*((1+Z)**4)) + Wl + (Wk*((1+Z)**2)))**(1/2)) ) )\n",
    "t0,err = integrate.quad(TIME,0,np.inf)\n",
    "T0     = t0*( 3.086*(10**(19)) )/(Ho*3.15 * (10**(16)))            #in Giga years\n",
    "tz,err = integrate.quad(TIME,Z,100000)\n",
    "Tz     = tz*( 3.086*(10**(19)) )/(Ho*3.15 * (10**(16)))            #in Giga years\n",
    "del_T  = (T0 - Tz)\n",
    "print(\"1.Present age of universe (in Gyears):\",T0)\n",
    "print(\"2.Age of the universe for user input redshift (in Gyears):\",Tz)\n",
    "print(\"3.Look back time for user input redshift (in Gyears):\",del_T)\n",
    "\n",
    "#4.Comoving radial distance to user input redshift (in MPC)\n",
    "#5.Angular diameter distance to user input redshift (in MPC)\n",
    "#6.Angular scale at user input redshift (kpc/arcsec)\n",
    "#7.Luminosity distance to user input redshift (in MPC)\n",
    "\n",
    "def fun(Z,Wm,Wl,Wk,Wr):\n",
    "    return(1*( 3.086*(10**(19)) )/(Ho*(((Wm*((1+Z)**3)) + (Wr*((1+Z)**4)) + Wl + (Wk*((1+Z)**2)))**(1/2))))\n",
    "\n",
    "r,err = integrate.quad(fun,0,Z,args=(Wm,Wl,Wk,Wr))\n",
    "rc = r*c/(3.08 * 10**(22))              #(in MPC)\n",
    "dl = (r*c*(1+Z))/(3.08 * 10**(22))      #(in MPC)\n",
    "da = (r*c)/((1+Z)*(3.08 * 10**(22)))    #(in MPC)\n",
    "ang = da/(206265 *(10**3))\n",
    "\n",
    "print(\"4.Comoving radial distance to user input redshift (in MPC)\",rc)\n",
    "print(\"5.Angular diameter distance to user input redshift (in MPC)\",da)\n",
    "print(\"6.Angular scale at user input redshift (kpc/arcsec)\",ang)\n",
    "print(\"7.Luminosity distance to user input redshift (in MPC)\",dl)\n",
    "\n",
    "#8. Temperature of CMB at user input redshift(K):\n",
    "\n",
    "Temp0 = 2.7\n",
    "Tcmb  = Temp0*(1+Z) #in Kelvin\n",
    "print(\"8.Temperature of CMB at user input redshift(K):\",Tcmb)"
   ]
  },
  {
   "cell_type": "code",
   "execution_count": null,
   "metadata": {},
   "outputs": [],
   "source": []
  }
 ],
 "metadata": {
  "kernelspec": {
   "display_name": "Python 3",
   "language": "python",
   "name": "python3"
  },
  "language_info": {
   "codemirror_mode": {
    "name": "ipython",
    "version": 3
   },
   "file_extension": ".py",
   "mimetype": "text/x-python",
   "name": "python",
   "nbconvert_exporter": "python",
   "pygments_lexer": "ipython3",
   "version": "3.8.5"
  }
 },
 "nbformat": 4,
 "nbformat_minor": 4
}
